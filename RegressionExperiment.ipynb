{
 "cells": [
  {
   "cell_type": "code",
   "execution_count": 10,
   "metadata": {},
   "outputs": [
    {
     "data": {
      "image/png": "[encoded data removed]",
      "text/plain": [
       "<matplotlib.figure.Figure at 0x1c8b52e64a8>"
      ]
     },
     "metadata": {},
     "output_type": "display_data"
    }
   ],
   "source": [
    "import matplotlib.pyplot as plt\n",
    "import numpy as np\n",
    "import random\n",
    "from sklearn import datasets\n",
    "from sklearn.datasets import load_svmlight_file\n",
    "from sklearn.model_selection import train_test_split\n",
    "from scipy.sparse import csr_matrix,hstack\n",
    "\n",
    "#获取文件数据\n",
    "def get_data(file):\n",
    "    inputs,labels = datasets.load_svmlight_file(file)\n",
    "    one = np.ones((inputs.shape[0],1))\n",
    "    inputs = hstack([inputs,csr_matrix(one)]).toarray()\n",
    "    labels = np.array(labels).reshape(inputs.shape[0],1)\n",
    "    return inputs,labels\n",
    "#训练\n",
    "def train(X,Y,learning_rate=0.001,epoch=1000):\n",
    "    w = np.ones((X.shape[1],1))\n",
    "    list = []\n",
    "    for i in range(epoch):\n",
    "        w -= learning_rate*np.dot(X.transpose(),X.dot(w)-Y)\n",
    "        Y_prediction = X.dot(w)\n",
    "        loss = 0.5/X.shape[0]*np.dot((Y-Y_prediction).transpose(),(Y-Y_prediction)).sum()\n",
    "        list.append(loss)\n",
    "        #print(list)\n",
    "    return w,list\n",
    "#测试\n",
    "def test(X_test,Y_test,w):\n",
    "    Y_prediction = X_test.dot(w)\n",
    "    loss = 0.5/X_test.shape[0]*np.dot((Y_test-Y_prediction).transpose(),(Y_test-Y_prediction)).sum()\n",
    "    return loss\n",
    "\n",
    "#迭代测试loss\n",
    "def test_loss_list(X_test,Y_test,X_train,Y_train,learning_rate,epoch):\n",
    "    loss_list = []\n",
    "    for i in range(epoch):\n",
    "        w,train_list = train(X_train,Y_train,learning_rate,i)\n",
    "        loss = test(X_test,Y_test,w)\n",
    "        loss_list.append(loss)\n",
    "    return loss_list\n",
    "\n",
    "#画图\n",
    "def plot_loss(train_loss,test_loss):\n",
    "    plt.xlabel('Iteration')\n",
    "    plt.ylabel('loss')\n",
    "    plt.plot(train_loss,label=\"train_loss\",color=\"blue\")\n",
    "    plt.plot(test_loss,label=\"train_loss\",color=\"red\")\n",
    "    plt.legend(loc='upper right')\n",
    "    plt.show()\n",
    "    \n",
    "if __name__==\"__main__\":\n",
    "    learning_rate = 0.0001\n",
    "    epoch = 1000\n",
    "    x,y = get_data('Housing_scale')\n",
    "    x_train,x_test,y_train,y_test = train_test_split(x,y,test_size=0.33)\n",
    "    w,train_loss = train(x_train,y_train,learning_rate,epoch)\n",
    "    test_loss = test_loss_list(x_test,y_test,x_train,y_train,learning_rate,epoch)\n",
    "    #print(test_loss)\n",
    "    plot_loss(train_loss,test_loss)\n",
    "    \n",
    "\n",
    "            \n"
   ]
  },
  {
   "cell_type": "code",
   "execution_count": null,
   "metadata": {
    "collapsed": true
   },
   "outputs": [],
   "source": []
  }
 ],
 "metadata": {
  "kernelspec": {
   "display_name": "Python 3",
   "language": "python",
   "name": "python3"
  },
  "language_info": {
   "codemirror_mode": {
    "name": "ipython",
    "version": 3
   },
   "file_extension": ".py",
   "mimetype": "text/x-python",
   "name": "python",
   "nbconvert_exporter": "python",
   "pygments_lexer": "ipython3",
   "version": "3.6.3"
  }
 },
 "nbformat": 4,
 "nbformat_minor": 2
}
